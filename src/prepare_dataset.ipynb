{
 "cells": [
  {
   "cell_type": "code",
   "execution_count": 1,
   "metadata": {},
   "outputs": [],
   "source": [
    "import pandas as pd\n",
    "import numpy as np\n",
    "import os"
   ]
  },
  {
   "cell_type": "code",
   "execution_count": 3,
   "metadata": {},
   "outputs": [
    {
     "name": "stdout",
     "output_type": "stream",
     "text": [
      "Venda Detalhada_211018_311018.txt\n"
     ]
    },
    {
     "name": "stderr",
     "output_type": "stream",
     "text": [
      "/home/guilherme/anaconda3/lib/python3.8/site-packages/IPython/core/interactiveshell.py:3071: DtypeWarning: Columns (16,17,18,19,20,21,22) have mixed types.Specify dtype option on import or set low_memory=False.\n",
      "  has_raised = await self.run_ast_nodes(code_ast.body, cell_name,\n"
     ]
    },
    {
     "name": "stdout",
     "output_type": "stream",
     "text": [
      "Venda Detalhada_210818_310818.txt\n",
      "Venda Detalhada_010818_100818.txt\n",
      "Venda Detalhada_010918_100918.txt\n",
      "Venda Detalhada_110918_200918.txt\n",
      "Venda Detalhada_210918_300918.txt\n",
      "Venda Detalhada_111018_201018.txt\n",
      "Venda Detalhada_211218_311218.txt\n",
      "Venda Detalhada_111218_201218.txt\n",
      "Venda Detalhada_110818_200818.txt\n",
      "Venda Detalhada_211118_301118.txt\n",
      "Venda Detalhada_011018_101018.txt\n",
      "Venda Detalhada_011218_101218.txt\n",
      "Venda Detalhada_011118_101118.txt\n",
      "Venda Detalhada_111118_201118.txt\n"
     ]
    }
   ],
   "source": [
    "full_df = []\n",
    "directory = \"SP_Experiência/2018/\"\n",
    "for filename in os.listdir(directory):\n",
    "    print(filename)\n",
    "    df = pd.read_csv(directory+filename,sep = ';',encoding=\"ISO-8859-1\")[['DATA_VENDA','CATEGORIA_1','CATEGORIA_2','CATEGORIA_3','CPFCNPJ']]\n",
    "    df.CPFCNPJ = df.CPFCNPJ.astype(str)\n",
    "    df[\"CAT_COMB\"] = df.CATEGORIA_1 + df.CATEGORIA_2 + df.CATEGORIA_3\n",
    "    df = df.drop(columns=['CATEGORIA_1','CATEGORIA_2','CATEGORIA_3'])\n",
    "    df = df[df.CPFCNPJ != 'nan']\n",
    "    full_df.append(df)\n",
    "df = pd.concat(full_df)\n",
    "del(full_df)\n",
    "df['item'] = df.CAT_COMB.astype(\"category\").cat.codes\n",
    "df = df.sort_values(by=['item'])\n",
    "items = list(set(df.CAT_COMB.to_list()))\n",
    "cats = list(set(df.item.to_list()))\n",
    "del(df)\n",
    "df = pd.DataFrame(list(zip(items, cats)), \n",
    "               columns =['CAT_COMB', 'id']) "
   ]
  },
  {
   "cell_type": "code",
   "execution_count": null,
   "metadata": {},
   "outputs": [],
   "source": []
  },
  {
   "cell_type": "code",
   "execution_count": 3,
   "metadata": {},
   "outputs": [],
   "source": [
    "#partidos.index = pd.to_datetime(partidos['created_at'])\n",
    "#partidos = partidos.groupby([partidos.index.year, partidos.index.month,partidos.index.day, partidos.partido])\n",
    "df.index = pd.to_datetime(df.DATA_VENDA, format=\"%Y-%m-%d-%H.%M.%S.%f\")\n",
    "df = df.groupby(['CPFCNPJ',df.index.year, df.index.month, df.index.day])"
   ]
  },
  {
   "cell_type": "code",
   "execution_count": 4,
   "metadata": {
    "tags": [
     "outputPrepend"
    ]
   },
   "outputs": [],
   "source": [
    "def cria_itemsets(serie):\n",
    "    compras_dia = []\n",
    "    for item in serie:\n",
    "        compras_dia.append(item)\n",
    "    return sorted(list(set(compras_dia)))\n",
    "\n",
    "df = df.agg({'item': cria_itemsets})\n",
    "df.index.names = ['CPFCNPJ', 'ano', 'mes', 'dia']\n",
    "df = df.reset_index()\n",
    "df = df[df.CPFCNPJ != \"nan\"]"
   ]
  },
  {
   "cell_type": "code",
   "execution_count": 5,
   "metadata": {},
   "outputs": [],
   "source": [
    "def cria_sequencias(serie):\n",
    "    seq_individuo = []\n",
    "    for item in serie:\n",
    "        seq_individuo.append(item)\n",
    "    return seq_individuo\n",
    "df = df.groupby(['CPFCNPJ'])\n",
    "df = df.agg({'item': cria_sequencias})"
   ]
  },
  {
   "cell_type": "code",
   "execution_count": 6,
   "metadata": {},
   "outputs": [
    {
     "data": {
      "text/plain": [
       "Index(['item'], dtype='object')"
      ]
     },
     "execution_count": 6,
     "metadata": {},
     "output_type": "execute_result"
    }
   ],
   "source": [
    "df.columns"
   ]
  },
  {
   "cell_type": "code",
   "execution_count": 7,
   "metadata": {},
   "outputs": [
    {
     "data": {
      "text/html": [
       "<div>\n",
       "<style scoped>\n",
       "    .dataframe tbody tr th:only-of-type {\n",
       "        vertical-align: middle;\n",
       "    }\n",
       "\n",
       "    .dataframe tbody tr th {\n",
       "        vertical-align: top;\n",
       "    }\n",
       "\n",
       "    .dataframe thead th {\n",
       "        text-align: right;\n",
       "    }\n",
       "</style>\n",
       "<table border=\"1\" class=\"dataframe\">\n",
       "  <thead>\n",
       "    <tr style=\"text-align: right;\">\n",
       "      <th></th>\n",
       "      <th>item</th>\n",
       "    </tr>\n",
       "    <tr>\n",
       "      <th>CPFCNPJ</th>\n",
       "      <th></th>\n",
       "    </tr>\n",
       "  </thead>\n",
       "  <tbody>\n",
       "    <tr>\n",
       "      <th>1000017680.0</th>\n",
       "      <td>[[300, 301, 306, 321, 530]]</td>\n",
       "    </tr>\n",
       "    <tr>\n",
       "      <th>10000242888.0</th>\n",
       "      <td>[[47, 50, 51, 175, 186, 189, 300, 306, 310, 32...</td>\n",
       "    </tr>\n",
       "    <tr>\n",
       "      <th>1000029280.0</th>\n",
       "      <td>[[319, 380, 445, 501, 722]]</td>\n",
       "    </tr>\n",
       "    <tr>\n",
       "      <th>1000030584.0</th>\n",
       "      <td>[[300, 301, 302, 306, 310], [300, 301, 302, 30...</td>\n",
       "    </tr>\n",
       "    <tr>\n",
       "      <th>10000334812.0</th>\n",
       "      <td>[[300, 301, 302, 303, 306, 310, 321]]</td>\n",
       "    </tr>\n",
       "    <tr>\n",
       "      <th>...</th>\n",
       "      <td>...</td>\n",
       "    </tr>\n",
       "    <tr>\n",
       "      <th>99998823820.0</th>\n",
       "      <td>[[501]]</td>\n",
       "    </tr>\n",
       "    <tr>\n",
       "      <th>9999928560.0</th>\n",
       "      <td>[[292, 302, 305, 306, 310, 414, 435]]</td>\n",
       "    </tr>\n",
       "    <tr>\n",
       "      <th>99999323120.0</th>\n",
       "      <td>[[90, 96, 105, 128, 140, 147, 153, 282, 283, 2...</td>\n",
       "    </tr>\n",
       "    <tr>\n",
       "      <th>99999390820.0</th>\n",
       "      <td>[[43, 45, 57, 61, 68, 69, 291, 300, 302, 306, ...</td>\n",
       "    </tr>\n",
       "    <tr>\n",
       "      <th>99999935834.0</th>\n",
       "      <td>[[246, 293, 294, 300, 306, 310, 584, 621, 663]...</td>\n",
       "    </tr>\n",
       "  </tbody>\n",
       "</table>\n",
       "<p>434664 rows × 1 columns</p>\n",
       "</div>"
      ],
      "text/plain": [
       "                                                            item\n",
       "CPFCNPJ                                                         \n",
       "1000017680.0                         [[300, 301, 306, 321, 530]]\n",
       "10000242888.0  [[47, 50, 51, 175, 186, 189, 300, 306, 310, 32...\n",
       "1000029280.0                         [[319, 380, 445, 501, 722]]\n",
       "1000030584.0   [[300, 301, 302, 306, 310], [300, 301, 302, 30...\n",
       "10000334812.0              [[300, 301, 302, 303, 306, 310, 321]]\n",
       "...                                                          ...\n",
       "99998823820.0                                            [[501]]\n",
       "9999928560.0               [[292, 302, 305, 306, 310, 414, 435]]\n",
       "99999323120.0  [[90, 96, 105, 128, 140, 147, 153, 282, 283, 2...\n",
       "99999390820.0  [[43, 45, 57, 61, 68, 69, 291, 300, 302, 306, ...\n",
       "99999935834.0  [[246, 293, 294, 300, 306, 310, 584, 621, 663]...\n",
       "\n",
       "[434664 rows x 1 columns]"
      ]
     },
     "execution_count": 7,
     "metadata": {},
     "output_type": "execute_result"
    }
   ],
   "source": [
    "df"
   ]
  },
  {
   "cell_type": "code",
   "execution_count": 8,
   "metadata": {},
   "outputs": [],
   "source": [
    "df['seq_len'] = df.item.apply(len)"
   ]
  },
  {
   "cell_type": "code",
   "execution_count": 9,
   "metadata": {},
   "outputs": [
    {
     "data": {
      "text/html": [
       "<div>\n",
       "<style scoped>\n",
       "    .dataframe tbody tr th:only-of-type {\n",
       "        vertical-align: middle;\n",
       "    }\n",
       "\n",
       "    .dataframe tbody tr th {\n",
       "        vertical-align: top;\n",
       "    }\n",
       "\n",
       "    .dataframe thead th {\n",
       "        text-align: right;\n",
       "    }\n",
       "</style>\n",
       "<table border=\"1\" class=\"dataframe\">\n",
       "  <thead>\n",
       "    <tr style=\"text-align: right;\">\n",
       "      <th></th>\n",
       "      <th>item</th>\n",
       "      <th>seq_len</th>\n",
       "    </tr>\n",
       "    <tr>\n",
       "      <th>CPFCNPJ</th>\n",
       "      <th></th>\n",
       "      <th></th>\n",
       "    </tr>\n",
       "  </thead>\n",
       "  <tbody>\n",
       "    <tr>\n",
       "      <th>38030169000248.0</th>\n",
       "      <td>[[4, 8, 9, 16, 17, 19, 82, 87, 89, 90, 91, 93,...</td>\n",
       "      <td>151</td>\n",
       "    </tr>\n",
       "    <tr>\n",
       "      <th>38030169000590.0</th>\n",
       "      <td>[[4, 6, 9, 12, 14, 16, 17, 18, 19, 21, 82, 85,...</td>\n",
       "      <td>151</td>\n",
       "    </tr>\n",
       "    <tr>\n",
       "      <th>38030169000914.0</th>\n",
       "      <td>[[4, 14, 16, 17, 18, 19, 21, 74, 81, 82, 87, 8...</td>\n",
       "      <td>151</td>\n",
       "    </tr>\n",
       "    <tr>\n",
       "      <th>38030169001139.0</th>\n",
       "      <td>[[4, 6, 9, 16, 17, 19, 21, 79, 82, 85, 87, 89,...</td>\n",
       "      <td>151</td>\n",
       "    </tr>\n",
       "    <tr>\n",
       "      <th>5951362001072.0</th>\n",
       "      <td>[[722], [722], [722], [722], [403, 442, 722], ...</td>\n",
       "      <td>147</td>\n",
       "    </tr>\n",
       "    <tr>\n",
       "      <th>...</th>\n",
       "      <td>...</td>\n",
       "      <td>...</td>\n",
       "    </tr>\n",
       "    <tr>\n",
       "      <th>5259586220.0</th>\n",
       "      <td>[[307]]</td>\n",
       "      <td>1</td>\n",
       "    </tr>\n",
       "    <tr>\n",
       "      <th>27596567649.0</th>\n",
       "      <td>[[182, 208]]</td>\n",
       "      <td>1</td>\n",
       "    </tr>\n",
       "    <tr>\n",
       "      <th>27596434843.0</th>\n",
       "      <td>[[51, 56, 301, 303, 306, 310, 311, 319, 321, 3...</td>\n",
       "      <td>1</td>\n",
       "    </tr>\n",
       "    <tr>\n",
       "      <th>27596339859.0</th>\n",
       "      <td>[[301, 305, 306]]</td>\n",
       "      <td>1</td>\n",
       "    </tr>\n",
       "    <tr>\n",
       "      <th>1000017680.0</th>\n",
       "      <td>[[300, 301, 306, 321, 530]]</td>\n",
       "      <td>1</td>\n",
       "    </tr>\n",
       "  </tbody>\n",
       "</table>\n",
       "<p>434664 rows × 2 columns</p>\n",
       "</div>"
      ],
      "text/plain": [
       "                                                               item  seq_len\n",
       "CPFCNPJ                                                                     \n",
       "38030169000248.0  [[4, 8, 9, 16, 17, 19, 82, 87, 89, 90, 91, 93,...      151\n",
       "38030169000590.0  [[4, 6, 9, 12, 14, 16, 17, 18, 19, 21, 82, 85,...      151\n",
       "38030169000914.0  [[4, 14, 16, 17, 18, 19, 21, 74, 81, 82, 87, 8...      151\n",
       "38030169001139.0  [[4, 6, 9, 16, 17, 19, 21, 79, 82, 85, 87, 89,...      151\n",
       "5951362001072.0   [[722], [722], [722], [722], [403, 442, 722], ...      147\n",
       "...                                                             ...      ...\n",
       "5259586220.0                                                [[307]]        1\n",
       "27596567649.0                                          [[182, 208]]        1\n",
       "27596434843.0     [[51, 56, 301, 303, 306, 310, 311, 319, 321, 3...        1\n",
       "27596339859.0                                     [[301, 305, 306]]        1\n",
       "1000017680.0                            [[300, 301, 306, 321, 530]]        1\n",
       "\n",
       "[434664 rows x 2 columns]"
      ]
     },
     "execution_count": 9,
     "metadata": {},
     "output_type": "execute_result"
    }
   ],
   "source": [
    "df.sort_values(by = ['seq_len'], ascending = False)"
   ]
  },
  {
   "cell_type": "code",
   "execution_count": 10,
   "metadata": {},
   "outputs": [
    {
     "data": {
      "text/html": [
       "<div>\n",
       "<style scoped>\n",
       "    .dataframe tbody tr th:only-of-type {\n",
       "        vertical-align: middle;\n",
       "    }\n",
       "\n",
       "    .dataframe tbody tr th {\n",
       "        vertical-align: top;\n",
       "    }\n",
       "\n",
       "    .dataframe thead th {\n",
       "        text-align: right;\n",
       "    }\n",
       "</style>\n",
       "<table border=\"1\" class=\"dataframe\">\n",
       "  <thead>\n",
       "    <tr style=\"text-align: right;\">\n",
       "      <th></th>\n",
       "      <th>item</th>\n",
       "      <th>seq_len</th>\n",
       "    </tr>\n",
       "    <tr>\n",
       "      <th>CPFCNPJ</th>\n",
       "      <th></th>\n",
       "      <th></th>\n",
       "    </tr>\n",
       "  </thead>\n",
       "  <tbody>\n",
       "    <tr>\n",
       "      <th>10000242888.0</th>\n",
       "      <td>[[47, 50, 51, 175, 186, 189, 300, 306, 310, 32...</td>\n",
       "      <td>8</td>\n",
       "    </tr>\n",
       "    <tr>\n",
       "      <th>1000030584.0</th>\n",
       "      <td>[[300, 301, 302, 306, 310], [300, 301, 302, 30...</td>\n",
       "      <td>4</td>\n",
       "    </tr>\n",
       "    <tr>\n",
       "      <th>10000359726.0</th>\n",
       "      <td>[[66, 300, 302, 306, 310, 319, 321, 422, 501, ...</td>\n",
       "      <td>21</td>\n",
       "    </tr>\n",
       "    <tr>\n",
       "      <th>10000527882.0</th>\n",
       "      <td>[[4, 298, 309, 313, 632], [283, 307], [307, 30...</td>\n",
       "      <td>5</td>\n",
       "    </tr>\n",
       "    <tr>\n",
       "      <th>1000098681.0</th>\n",
       "      <td>[[221, 306, 387, 617], [306], [200, 306], [306...</td>\n",
       "      <td>7</td>\n",
       "    </tr>\n",
       "    <tr>\n",
       "      <th>...</th>\n",
       "      <td>...</td>\n",
       "      <td>...</td>\n",
       "    </tr>\n",
       "    <tr>\n",
       "      <th>9999288480.0</th>\n",
       "      <td>[[300, 306, 310, 311, 321, 323], [306, 310, 31...</td>\n",
       "      <td>16</td>\n",
       "    </tr>\n",
       "    <tr>\n",
       "      <th>9999674076.0</th>\n",
       "      <td>[[175, 200, 239, 246, 294, 435], [239, 246, 30...</td>\n",
       "      <td>10</td>\n",
       "    </tr>\n",
       "    <tr>\n",
       "      <th>9999746084.0</th>\n",
       "      <td>[[310, 401, 407, 442], [178], [196, 223, 310, ...</td>\n",
       "      <td>10</td>\n",
       "    </tr>\n",
       "    <tr>\n",
       "      <th>9999765750.0</th>\n",
       "      <td>[[82, 128, 282, 283, 298, 307, 313, 318, 640, ...</td>\n",
       "      <td>7</td>\n",
       "    </tr>\n",
       "    <tr>\n",
       "      <th>99999935834.0</th>\n",
       "      <td>[[246, 293, 294, 300, 306, 310, 584, 621, 663]...</td>\n",
       "      <td>4</td>\n",
       "    </tr>\n",
       "  </tbody>\n",
       "</table>\n",
       "<p>153963 rows × 2 columns</p>\n",
       "</div>"
      ],
      "text/plain": [
       "                                                            item  seq_len\n",
       "CPFCNPJ                                                                  \n",
       "10000242888.0  [[47, 50, 51, 175, 186, 189, 300, 306, 310, 32...        8\n",
       "1000030584.0   [[300, 301, 302, 306, 310], [300, 301, 302, 30...        4\n",
       "10000359726.0  [[66, 300, 302, 306, 310, 319, 321, 422, 501, ...       21\n",
       "10000527882.0  [[4, 298, 309, 313, 632], [283, 307], [307, 30...        5\n",
       "1000098681.0   [[221, 306, 387, 617], [306], [200, 306], [306...        7\n",
       "...                                                          ...      ...\n",
       "9999288480.0   [[300, 306, 310, 311, 321, 323], [306, 310, 31...       16\n",
       "9999674076.0   [[175, 200, 239, 246, 294, 435], [239, 246, 30...       10\n",
       "9999746084.0   [[310, 401, 407, 442], [178], [196, 223, 310, ...       10\n",
       "9999765750.0   [[82, 128, 282, 283, 298, 307, 313, 318, 640, ...        7\n",
       "99999935834.0  [[246, 293, 294, 300, 306, 310, 584, 621, 663]...        4\n",
       "\n",
       "[153963 rows x 2 columns]"
      ]
     },
     "execution_count": 10,
     "metadata": {},
     "output_type": "execute_result"
    }
   ],
   "source": [
    "df = df[df.seq_len > 3]\n",
    "df"
   ]
  },
  {
   "cell_type": "code",
   "execution_count": 11,
   "metadata": {},
   "outputs": [],
   "source": [
    "df.to_csv(\"trajetorias_2018.csv\")"
   ]
  },
  {
   "cell_type": "code",
   "execution_count": null,
   "metadata": {},
   "outputs": [],
   "source": []
  }
 ],
 "metadata": {
  "kernelspec": {
   "display_name": "Python 3",
   "language": "python",
   "name": "python3"
  },
  "language_info": {
   "codemirror_mode": {
    "name": "ipython",
    "version": 3
   },
   "file_extension": ".py",
   "mimetype": "text/x-python",
   "name": "python",
   "nbconvert_exporter": "python",
   "pygments_lexer": "ipython3",
   "version": "3.8.3"
  }
 },
 "nbformat": 4,
 "nbformat_minor": 2
}
