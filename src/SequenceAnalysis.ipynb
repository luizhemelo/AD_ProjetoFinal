{
 "cells": [
  {
   "cell_type": "code",
   "execution_count": 16,
   "metadata": {},
   "outputs": [],
   "source": [
    "# !pip install prefixspan"
   ]
  },
  {
   "cell_type": "code",
   "execution_count": 17,
   "metadata": {},
   "outputs": [],
   "source": [
    "import pandas as pd\n",
    "from prefixspan import PrefixSpan\n",
    "\n",
    "# Increments the number of rows and columns that are displayed\n",
    "pd.set_option('display.max_rows', 500)\n",
    "pd.set_option('display.max_columns', 500)"
   ]
  },
  {
   "cell_type": "code",
   "execution_count": 18,
   "metadata": {},
   "outputs": [],
   "source": [
    "FILENAME = \"./trajetorias_2018.csv\""
   ]
  },
  {
   "cell_type": "code",
   "execution_count": 20,
   "metadata": {},
   "outputs": [
    {
     "data": {
      "text/html": [
       "<div>\n",
       "<style scoped>\n",
       "    .dataframe tbody tr th:only-of-type {\n",
       "        vertical-align: middle;\n",
       "    }\n",
       "\n",
       "    .dataframe tbody tr th {\n",
       "        vertical-align: top;\n",
       "    }\n",
       "\n",
       "    .dataframe thead th {\n",
       "        text-align: right;\n",
       "    }\n",
       "</style>\n",
       "<table border=\"1\" class=\"dataframe\">\n",
       "  <thead>\n",
       "    <tr style=\"text-align: right;\">\n",
       "      <th></th>\n",
       "      <th>CPFCNPJ</th>\n",
       "      <th>item</th>\n",
       "      <th>seq_len</th>\n",
       "    </tr>\n",
       "  </thead>\n",
       "  <tbody>\n",
       "    <tr>\n",
       "      <th>0</th>\n",
       "      <td>1.000024e+10</td>\n",
       "      <td>[[47, 50, 51, 175, 186, 189, 300, 306, 310, 32...</td>\n",
       "      <td>8</td>\n",
       "    </tr>\n",
       "    <tr>\n",
       "      <th>1</th>\n",
       "      <td>1.000031e+09</td>\n",
       "      <td>[[300, 301, 302, 306, 310], [300, 301, 302, 30...</td>\n",
       "      <td>4</td>\n",
       "    </tr>\n",
       "    <tr>\n",
       "      <th>2</th>\n",
       "      <td>1.000036e+10</td>\n",
       "      <td>[[66, 300, 302, 306, 310, 319, 321, 422, 501, ...</td>\n",
       "      <td>21</td>\n",
       "    </tr>\n",
       "    <tr>\n",
       "      <th>3</th>\n",
       "      <td>1.000053e+10</td>\n",
       "      <td>[[4, 298, 309, 313, 632], [283, 307], [307, 30...</td>\n",
       "      <td>5</td>\n",
       "    </tr>\n",
       "    <tr>\n",
       "      <th>4</th>\n",
       "      <td>1.000099e+09</td>\n",
       "      <td>[[221, 306, 387, 617], [306], [200, 306], [306...</td>\n",
       "      <td>7</td>\n",
       "    </tr>\n",
       "  </tbody>\n",
       "</table>\n",
       "</div>"
      ],
      "text/plain": [
       "        CPFCNPJ                                               item  seq_len\n",
       "0  1.000024e+10  [[47, 50, 51, 175, 186, 189, 300, 306, 310, 32...        8\n",
       "1  1.000031e+09  [[300, 301, 302, 306, 310], [300, 301, 302, 30...        4\n",
       "2  1.000036e+10  [[66, 300, 302, 306, 310, 319, 321, 422, 501, ...       21\n",
       "3  1.000053e+10  [[4, 298, 309, 313, 632], [283, 307], [307, 30...        5\n",
       "4  1.000099e+09  [[221, 306, 387, 617], [306], [200, 306], [306...        7"
      ]
     },
     "execution_count": 20,
     "metadata": {},
     "output_type": "execute_result"
    }
   ],
   "source": [
    "# Load dataframe\n",
    "df = pd.read_csv(FILENAME)\n",
    "df.head()"
   ]
  },
  {
   "cell_type": "code",
   "execution_count": 21,
   "metadata": {},
   "outputs": [
    {
     "data": {
      "text/plain": [
       "'[[66, 300, 302, 306, 310, 319, 321, 422, 501, 538, 540, 541, 616, 621, 682, 722], [178, 300, 302, 306, 501, 722, 768], [199, 206, 223, 300, 302, 304, 306, 310, 435, 501, 621, 768], [53, 54, 69, 300, 304, 306, 501, 535, 672, 768], [55, 175, 186, 188, 281, 300, 302, 306, 310, 319, 414, 501, 538, 544], [182, 300, 302, 306, 310, 319, 435, 501, 538, 722, 768], [55, 175, 178, 188, 300, 302, 306, 310, 319, 435, 535, 538, 544, 570], [67, 182, 208, 227, 302, 304, 538], [175, 186, 310, 768], [178, 300, 302, 306, 310, 319, 435, 501, 538, 621, 722, 768], [175, 193, 300, 302, 306, 310, 319, 320, 501, 697], [55, 175, 435, 558, 621, 768], [175, 208, 221, 300, 302, 306, 310, 319, 501, 541, 722], [302, 306, 768], [186, 208, 300, 302, 306, 310, 401, 446, 501, 537], [300, 302, 306, 310, 319, 446, 531, 538, 621, 722, 768], [208, 229, 300, 302, 306, 310, 501, 555], [175, 208, 223, 300, 302, 306, 401, 446, 768], [186, 300, 302, 306, 310, 319, 407, 420, 446, 555, 621, 722], [30, 54, 175, 223, 232, 302, 306, 310, 380, 384, 413, 555, 604, 621, 706], [208, 302, 306, 310, 320, 380, 384, 413, 414, 429, 555, 621]]'"
      ]
     },
     "execution_count": 21,
     "metadata": {},
     "output_type": "execute_result"
    }
   ],
   "source": [
    "# Quick-look item\n",
    "df['item'].loc[2]"
   ]
  },
  {
   "cell_type": "code",
   "execution_count": 22,
   "metadata": {},
   "outputs": [],
   "source": [
    "ps = PrefixSpan(df['item'].loc[2])"
   ]
  },
  {
   "cell_type": "code",
   "execution_count": 30,
   "metadata": {},
   "outputs": [
    {
     "data": {
      "text/plain": [
       "[(22, ['[']),\n",
       " (56, ['6']),\n",
       " (213, [',']),\n",
       " (213, [' ']),\n",
       " (110, ['3']),\n",
       " (115, ['0']),\n",
       " (73, ['2']),\n",
       " (77, ['1']),\n",
       " (16, ['9']),\n",
       " (40, ['4']),\n",
       " (66, ['5']),\n",
       " (43, ['8']),\n",
       " (36, ['7']),\n",
       " (22, [']'])]"
      ]
     },
     "execution_count": 30,
     "metadata": {},
     "output_type": "execute_result"
    }
   ],
   "source": [
    "ps.frequent(10)"
   ]
  },
  {
   "cell_type": "code",
   "execution_count": null,
   "metadata": {},
   "outputs": [],
   "source": []
  }
 ],
 "metadata": {
  "kernelspec": {
   "display_name": "Python 3.7.4 64-bit ('base': conda)",
   "language": "python",
   "name": "python37464bitbasecondabb5af891ef1044d7be15a697e9ceaf9c"
  },
  "language_info": {
   "codemirror_mode": {
    "name": "ipython",
    "version": 3
   },
   "file_extension": ".py",
   "mimetype": "text/x-python",
   "name": "python",
   "nbconvert_exporter": "python",
   "pygments_lexer": "ipython3",
   "version": "3.7.7"
  }
 },
 "nbformat": 4,
 "nbformat_minor": 4
}
