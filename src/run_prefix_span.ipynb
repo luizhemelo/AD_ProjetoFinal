{
 "cells": [
  {
   "cell_type": "code",
   "execution_count": 28,
   "metadata": {},
   "outputs": [],
   "source": [
    "from spmf import Spmf\n",
    "import pandas as pd\n",
    "from ast import literal_eval\n",
    "\n",
    "def converter(x):\n",
    "    return literal_eval(x)\n",
    "\n",
    "converters={'scores': converter}"
   ]
  },
  {
   "cell_type": "code",
   "execution_count": 29,
   "metadata": {},
   "outputs": [],
   "source": [
    "df = pd.read_csv(\"trajetorias_2018.csv\",sep=',', converters=converters)\n",
    "\n",
    "seqs = df.item.to_list()\n",
    "\n",
    "with open(\"prefix_span_input.txt\",\"w\") as f:\n",
    "    for seq in seqs:\n",
    "        sequencia = literal_eval(seq)\n",
    "        for trans in sequencia:\n",
    "            for item in trans:\n",
    "                f.write(str(item)+\" \")# printa item\n",
    "            f.write(\"-1 \")# printa -1\n",
    "        f.write(\"-2\\n\")#printa -2"
   ]
  },
  {
   "cell_type": "code",
   "execution_count": 39,
   "metadata": {
    "scrolled": true
   },
   "outputs": [
    {
     "name": "stdout",
     "output_type": "stream",
     "text": [
      ">/home/guilherme/Documentos/apr_desc/projeto/spmf.jar\n",
      "=============  PREFIXSPAN 0.99-2016 - STATISTICS =============\n",
      " Total time ~ 42759 ms\n",
      " Frequent sequences count : 841\n",
      " Max memory (mb) : 1330.2788009643555\n",
      " minsup = 46189 sequences.\n",
      " Pattern count : 841\n",
      "===================================================\n",
      "\n",
      "\n",
      "           pattern    sup\n",
      "0            [175]  53866\n",
      "1       [175, 306]  47967\n",
      "2            [300]  86122\n",
      "3        [300 306]  79394\n",
      "4    [300 306 310]  68654\n",
      "..             ...    ...\n",
      "836          [621]  54124\n",
      "837     [621, 306]  48179\n",
      "838          [722]  59356\n",
      "839     [722, 306]  52497\n",
      "840     [722, 310]  49114\n",
      "\n",
      "[841 rows x 2 columns]\n"
     ]
    }
   ],
   "source": [
    "spmf = Spmf(\"PrefixSpan\",input_filename=\"prefix_span_input.txt\",\n",
    "            output_filename=\"output.txt\", arguments=[0.3, 5])\n",
    "spmf.run()\n",
    "print(spmf.to_pandas_dataframe(pickle=True))\n",
    "spmf.to_csv(\"output.csv\")"
   ]
  },
  {
   "cell_type": "code",
   "execution_count": null,
   "metadata": {},
   "outputs": [],
   "source": []
  }
 ],
 "metadata": {
  "kernelspec": {
   "display_name": "Python 3.7.4 64-bit ('base': conda)",
   "language": "python",
   "name": "python37464bitbasecondabb5af891ef1044d7be15a697e9ceaf9c"
  },
  "language_info": {
   "codemirror_mode": {
    "name": "ipython",
    "version": 3
   },
   "file_extension": ".py",
   "mimetype": "text/x-python",
   "name": "python",
   "nbconvert_exporter": "python",
   "pygments_lexer": "ipython3",
   "version": "3.7.7"
  }
 },
 "nbformat": 4,
 "nbformat_minor": 4
}
